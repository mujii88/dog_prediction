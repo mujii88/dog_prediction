{
 "cells": [
  {
   "cell_type": "code",
   "execution_count": 1,
   "id": "55bd7af1",
   "metadata": {},
   "outputs": [
    {
     "name": "stderr",
     "output_type": "stream",
     "text": [
      "[nltk_data] Downloading package punkt to /home/one/nltk_data...\n",
      "[nltk_data]   Package punkt is already up-to-date!\n",
      "[nltk_data] Downloading package stopwords to /home/one/nltk_data...\n",
      "[nltk_data]   Package stopwords is already up-to-date!\n",
      "[nltk_data] Downloading package punkt_tab to /home/one/nltk_data...\n",
      "[nltk_data]   Package punkt_tab is already up-to-date!\n"
     ]
    },
    {
     "data": {
      "text/plain": [
       "True"
      ]
     },
     "execution_count": 1,
     "metadata": {},
     "output_type": "execute_result"
    }
   ],
   "source": [
    "import nltk\n",
    "nltk.download('punkt')\n",
    "nltk.download('stopwords')\n",
    "nltk.download('punkt_tab')"
   ]
  },
  {
   "cell_type": "code",
   "execution_count": 2,
   "id": "5702d996",
   "metadata": {},
   "outputs": [],
   "source": [
    "import pandas as pd\n",
    "import re\n",
    "from nltk.corpus import stopwords\n",
    "from nltk.tokenize import word_tokenize\n"
   ]
  },
  {
   "cell_type": "code",
   "execution_count": 3,
   "id": "93a0df9c",
   "metadata": {},
   "outputs": [
    {
     "name": "stdout",
     "output_type": "stream",
     "text": [
      "Collecting en-core-web-sm==3.8.0\n",
      "  Downloading https://github.com/explosion/spacy-models/releases/download/en_core_web_sm-3.8.0/en_core_web_sm-3.8.0-py3-none-any.whl (12.8 MB)\n",
      "\u001b[2K     \u001b[90m━━━━━━━━━━━━━━━━━━━━━━━━━━━━━━━━━━━━━━━\u001b[0m \u001b[32m12.8/12.8 MB\u001b[0m \u001b[31m847.4 kB/s\u001b[0m eta \u001b[36m0:00:00\u001b[0m00:01\u001b[0m00:01\u001b[0m\n",
      "\u001b[?25h\u001b[38;5;2m✔ Download and installation successful\u001b[0m\n",
      "You can now load the package via spacy.load('en_core_web_sm')\n",
      "\u001b[38;5;3m⚠ Restart to reload dependencies\u001b[0m\n",
      "If you are in a Jupyter or Colab notebook, you may need to restart Python in\n",
      "order to load all the package's dependencies. You can do this by selecting the\n",
      "'Restart kernel' or 'Restart runtime' option.\n"
     ]
    }
   ],
   "source": [
    "import spacy\n",
    "spacy.cli.download(\"en_core_web_sm\")\n",
    "nlp = spacy.load(\"en_core_web_sm\")\n"
   ]
  },
  {
   "cell_type": "code",
   "execution_count": 4,
   "id": "7b3b0cdc",
   "metadata": {},
   "outputs": [
    {
     "name": "stdout",
     "output_type": "stream",
     "text": [
      "print first 5 rows of dataset\n"
     ]
    },
    {
     "data": {
      "text/html": [
       "<div>\n",
       "<style scoped>\n",
       "    .dataframe tbody tr th:only-of-type {\n",
       "        vertical-align: middle;\n",
       "    }\n",
       "\n",
       "    .dataframe tbody tr th {\n",
       "        vertical-align: top;\n",
       "    }\n",
       "\n",
       "    .dataframe thead th {\n",
       "        text-align: right;\n",
       "    }\n",
       "</style>\n",
       "<table border=\"1\" class=\"dataframe\">\n",
       "  <thead>\n",
       "    <tr style=\"text-align: right;\">\n",
       "      <th></th>\n",
       "      <th>review</th>\n",
       "      <th>sentiment</th>\n",
       "    </tr>\n",
       "  </thead>\n",
       "  <tbody>\n",
       "    <tr>\n",
       "      <th>0</th>\n",
       "      <td>One of the other reviewers has mentioned that after watching just 1 Oz episode you'll be hooked. They are right, as this is exactly what happened with me.&lt;br /&gt;&lt;br /&gt;The first thing that struck me about Oz was its brutality and unflinching scenes of violence, which set in right from the word GO. Trust me, this is not a show for the faint hearted or timid. This show pulls no punches with regards to drugs, sex or violence. Its is hardcore, in the classic use of the word.&lt;br /&gt;&lt;br /&gt;It is called OZ as that is the nickname given to the Oswald Maximum Security State Penitentary. It focuses mainly on Emerald City, an experimental section of the prison where all the cells have glass fronts and face inwards, so privacy is not high on the agenda. Em City is home to many..Aryans, Muslims, gangstas, Latinos, Christians, Italians, Irish and more....so scuffles, death stares, dodgy dealings and shady agreements are never far away.&lt;br /&gt;&lt;br /&gt;I would say the main appeal of the show is due to the fact that it goes where other shows wouldn't dare. Forget pretty pictures painted for mainstream audiences, forget charm, forget romance...OZ doesn't mess around. The first episode I ever saw struck me as so nasty it was surreal, I couldn't say I was ready for it, but as I watched more, I developed a taste for Oz, and got accustomed to the high levels of graphic violence. Not just violence, but injustice (crooked guards who'll be sold out for a nickel, inmates who'll kill on order and get away with it, well mannered, middle class inmates being turned into prison bitches due to their lack of street skills or prison experience) Watching Oz, you may become comfortable with what is uncomfortable viewing....thats if you can get in touch with your darker side.</td>\n",
       "      <td>positive</td>\n",
       "    </tr>\n",
       "    <tr>\n",
       "      <th>1</th>\n",
       "      <td>A wonderful little production. &lt;br /&gt;&lt;br /&gt;The filming technique is very unassuming- very old-time-BBC fashion and gives a comforting, and sometimes discomforting, sense of realism to the entire piece. &lt;br /&gt;&lt;br /&gt;The actors are extremely well chosen- Michael Sheen not only \"has got all the polari\" but he has all the voices down pat too! You can truly see the seamless editing guided by the references to Williams' diary entries, not only is it well worth the watching but it is a terrificly written and performed piece. A masterful production about one of the great master's of comedy and his life. &lt;br /&gt;&lt;br /&gt;The realism really comes home with the little things: the fantasy of the guard which, rather than use the traditional 'dream' techniques remains solid then disappears. It plays on our knowledge and our senses, particularly with the scenes concerning Orton and Halliwell and the sets (particularly of their flat with Halliwell's murals decorating every surface) are terribly well done.</td>\n",
       "      <td>positive</td>\n",
       "    </tr>\n",
       "    <tr>\n",
       "      <th>2</th>\n",
       "      <td>I thought this was a wonderful way to spend time on a too hot summer weekend, sitting in the air conditioned theater and watching a light-hearted comedy. The plot is simplistic, but the dialogue is witty and the characters are likable (even the well bread suspected serial killer). While some may be disappointed when they realize this is not Match Point 2: Risk Addiction, I thought it was proof that Woody Allen is still fully in control of the style many of us have grown to love.&lt;br /&gt;&lt;br /&gt;This was the most I'd laughed at one of Woody's comedies in years (dare I say a decade?). While I've never been impressed with Scarlet Johanson, in this she managed to tone down her \"sexy\" image and jumped right into a average, but spirited young woman.&lt;br /&gt;&lt;br /&gt;This may not be the crown jewel of his career, but it was wittier than \"Devil Wears Prada\" and more interesting than \"Superman\" a great comedy to go see with friends.</td>\n",
       "      <td>positive</td>\n",
       "    </tr>\n",
       "    <tr>\n",
       "      <th>3</th>\n",
       "      <td>Basically there's a family where a little boy (Jake) thinks there's a zombie in his closet &amp; his parents are fighting all the time.&lt;br /&gt;&lt;br /&gt;This movie is slower than a soap opera... and suddenly, Jake decides to become Rambo and kill the zombie.&lt;br /&gt;&lt;br /&gt;OK, first of all when you're going to make a film you must Decide if its a thriller or a drama! As a drama the movie is watchable. Parents are divorcing &amp; arguing like in real life. And then we have Jake with his closet which totally ruins all the film! I expected to see a BOOGEYMAN similar movie, and instead i watched a drama with some meaningless thriller spots.&lt;br /&gt;&lt;br /&gt;3 out of 10 just for the well playing parents &amp; descent dialogs. As for the shots with Jake: just ignore them.</td>\n",
       "      <td>negative</td>\n",
       "    </tr>\n",
       "    <tr>\n",
       "      <th>4</th>\n",
       "      <td>Petter Mattei's \"Love in the Time of Money\" is a visually stunning film to watch. Mr. Mattei offers us a vivid portrait about human relations. This is a movie that seems to be telling us what money, power and success do to people in the different situations we encounter. &lt;br /&gt;&lt;br /&gt;This being a variation on the Arthur Schnitzler's play about the same theme, the director transfers the action to the present time New York where all these different characters meet and connect. Each one is connected in one way, or another to the next person, but no one seems to know the previous point of contact. Stylishly, the film has a sophisticated luxurious look. We are taken to see how these people live and the world they live in their own habitat.&lt;br /&gt;&lt;br /&gt;The only thing one gets out of all these souls in the picture is the different stages of loneliness each one inhabits. A big city is not exactly the best place in which human relations find sincere fulfillment, as one discerns is the case with most of the people we encounter.&lt;br /&gt;&lt;br /&gt;The acting is good under Mr. Mattei's direction. Steve Buscemi, Rosario Dawson, Carol Kane, Michael Imperioli, Adrian Grenier, and the rest of the talented cast, make these characters come alive.&lt;br /&gt;&lt;br /&gt;We wish Mr. Mattei good luck and await anxiously for his next work.</td>\n",
       "      <td>positive</td>\n",
       "    </tr>\n",
       "  </tbody>\n",
       "</table>\n",
       "</div>"
      ],
      "text/plain": [
       "                                                                                                                                                                                                                                                                                                                                                                                                                                                                                                                                                                                                                                                                                                                                                                                                                                                                                                                                                                                                                                                                                                                                                                                                                                                                                                                                                                                                                                                                                                                                                                                                                                                                                                                                                                                                                              review  \\\n",
       "0  One of the other reviewers has mentioned that after watching just 1 Oz episode you'll be hooked. They are right, as this is exactly what happened with me.<br /><br />The first thing that struck me about Oz was its brutality and unflinching scenes of violence, which set in right from the word GO. Trust me, this is not a show for the faint hearted or timid. This show pulls no punches with regards to drugs, sex or violence. Its is hardcore, in the classic use of the word.<br /><br />It is called OZ as that is the nickname given to the Oswald Maximum Security State Penitentary. It focuses mainly on Emerald City, an experimental section of the prison where all the cells have glass fronts and face inwards, so privacy is not high on the agenda. Em City is home to many..Aryans, Muslims, gangstas, Latinos, Christians, Italians, Irish and more....so scuffles, death stares, dodgy dealings and shady agreements are never far away.<br /><br />I would say the main appeal of the show is due to the fact that it goes where other shows wouldn't dare. Forget pretty pictures painted for mainstream audiences, forget charm, forget romance...OZ doesn't mess around. The first episode I ever saw struck me as so nasty it was surreal, I couldn't say I was ready for it, but as I watched more, I developed a taste for Oz, and got accustomed to the high levels of graphic violence. Not just violence, but injustice (crooked guards who'll be sold out for a nickel, inmates who'll kill on order and get away with it, well mannered, middle class inmates being turned into prison bitches due to their lack of street skills or prison experience) Watching Oz, you may become comfortable with what is uncomfortable viewing....thats if you can get in touch with your darker side.   \n",
       "1                                                                                                                                                                                                                                                                                                                                                                                                                                                                                                                                                                                                                                                                                                                                                                                             A wonderful little production. <br /><br />The filming technique is very unassuming- very old-time-BBC fashion and gives a comforting, and sometimes discomforting, sense of realism to the entire piece. <br /><br />The actors are extremely well chosen- Michael Sheen not only \"has got all the polari\" but he has all the voices down pat too! You can truly see the seamless editing guided by the references to Williams' diary entries, not only is it well worth the watching but it is a terrificly written and performed piece. A masterful production about one of the great master's of comedy and his life. <br /><br />The realism really comes home with the little things: the fantasy of the guard which, rather than use the traditional 'dream' techniques remains solid then disappears. It plays on our knowledge and our senses, particularly with the scenes concerning Orton and Halliwell and the sets (particularly of their flat with Halliwell's murals decorating every surface) are terribly well done.   \n",
       "2                                                                                                                                                                                                                                                                                                                                                                                                                                                                                                                                                                                                                                                                                                                                                                                                                                                                     I thought this was a wonderful way to spend time on a too hot summer weekend, sitting in the air conditioned theater and watching a light-hearted comedy. The plot is simplistic, but the dialogue is witty and the characters are likable (even the well bread suspected serial killer). While some may be disappointed when they realize this is not Match Point 2: Risk Addiction, I thought it was proof that Woody Allen is still fully in control of the style many of us have grown to love.<br /><br />This was the most I'd laughed at one of Woody's comedies in years (dare I say a decade?). While I've never been impressed with Scarlet Johanson, in this she managed to tone down her \"sexy\" image and jumped right into a average, but spirited young woman.<br /><br />This may not be the crown jewel of his career, but it was wittier than \"Devil Wears Prada\" and more interesting than \"Superman\" a great comedy to go see with friends.   \n",
       "3                                                                                                                                                                                                                                                                                                                                                                                                                                                                                                                                                                                                                                                                                                                                                                                                                                                                                                                                                                                                                                                       Basically there's a family where a little boy (Jake) thinks there's a zombie in his closet & his parents are fighting all the time.<br /><br />This movie is slower than a soap opera... and suddenly, Jake decides to become Rambo and kill the zombie.<br /><br />OK, first of all when you're going to make a film you must Decide if its a thriller or a drama! As a drama the movie is watchable. Parents are divorcing & arguing like in real life. And then we have Jake with his closet which totally ruins all the film! I expected to see a BOOGEYMAN similar movie, and instead i watched a drama with some meaningless thriller spots.<br /><br />3 out of 10 just for the well playing parents & descent dialogs. As for the shots with Jake: just ignore them.   \n",
       "4                                                                                                                                                                                                                                                                                                                                                                                                                                                              Petter Mattei's \"Love in the Time of Money\" is a visually stunning film to watch. Mr. Mattei offers us a vivid portrait about human relations. This is a movie that seems to be telling us what money, power and success do to people in the different situations we encounter. <br /><br />This being a variation on the Arthur Schnitzler's play about the same theme, the director transfers the action to the present time New York where all these different characters meet and connect. Each one is connected in one way, or another to the next person, but no one seems to know the previous point of contact. Stylishly, the film has a sophisticated luxurious look. We are taken to see how these people live and the world they live in their own habitat.<br /><br />The only thing one gets out of all these souls in the picture is the different stages of loneliness each one inhabits. A big city is not exactly the best place in which human relations find sincere fulfillment, as one discerns is the case with most of the people we encounter.<br /><br />The acting is good under Mr. Mattei's direction. Steve Buscemi, Rosario Dawson, Carol Kane, Michael Imperioli, Adrian Grenier, and the rest of the talented cast, make these characters come alive.<br /><br />We wish Mr. Mattei good luck and await anxiously for his next work.   \n",
       "\n",
       "  sentiment  \n",
       "0  positive  \n",
       "1  positive  \n",
       "2  positive  \n",
       "3  negative  \n",
       "4  positive  "
      ]
     },
     "metadata": {},
     "output_type": "display_data"
    }
   ],
   "source": [
    "import pandas as pd\n",
    "pd.set_option('display.max_colwidth',None)\n",
    "try:\n",
    "    df = pd.read_csv(\"/home/one/sAT/IMDB Dataset.csv\")\n",
    "except FileNotFoundError:\n",
    "    print('Error in finding dataset')\n",
    "\n",
    "print(\"print first 5 rows of dataset\")\n",
    "display(df.head())\n"
   ]
  },
  {
   "cell_type": "code",
   "execution_count": 5,
   "id": "bc77accf",
   "metadata": {},
   "outputs": [
    {
     "name": "stdout",
     "output_type": "stream",
     "text": [
      "Information about dataset\n",
      "<class 'pandas.core.frame.DataFrame'>\n",
      "RangeIndex: 50000 entries, 0 to 49999\n",
      "Data columns (total 2 columns):\n",
      " #   Column     Non-Null Count  Dtype \n",
      "---  ------     --------------  ----- \n",
      " 0   review     50000 non-null  object\n",
      " 1   sentiment  50000 non-null  object\n",
      "dtypes: object(2)\n",
      "memory usage: 781.4+ KB\n"
     ]
    }
   ],
   "source": [
    "print(\"Information about dataset\")\n",
    "df.info()"
   ]
  },
  {
   "cell_type": "code",
   "execution_count": 6,
   "id": "3a2fa70b",
   "metadata": {},
   "outputs": [
    {
     "data": {
      "text/plain": [
       "{'a',\n",
       " 'about',\n",
       " 'above',\n",
       " 'after',\n",
       " 'again',\n",
       " 'against',\n",
       " 'ain',\n",
       " 'all',\n",
       " 'am',\n",
       " 'an',\n",
       " 'and',\n",
       " 'any',\n",
       " 'are',\n",
       " 'aren',\n",
       " \"aren't\",\n",
       " 'as',\n",
       " 'at',\n",
       " 'be',\n",
       " 'because',\n",
       " 'been',\n",
       " 'before',\n",
       " 'being',\n",
       " 'below',\n",
       " 'between',\n",
       " 'both',\n",
       " 'but',\n",
       " 'by',\n",
       " 'can',\n",
       " 'couldn',\n",
       " \"couldn't\",\n",
       " 'd',\n",
       " 'did',\n",
       " 'didn',\n",
       " \"didn't\",\n",
       " 'do',\n",
       " 'does',\n",
       " 'doesn',\n",
       " \"doesn't\",\n",
       " 'doing',\n",
       " 'don',\n",
       " \"don't\",\n",
       " 'down',\n",
       " 'during',\n",
       " 'each',\n",
       " 'few',\n",
       " 'for',\n",
       " 'from',\n",
       " 'further',\n",
       " 'had',\n",
       " 'hadn',\n",
       " \"hadn't\",\n",
       " 'has',\n",
       " 'hasn',\n",
       " \"hasn't\",\n",
       " 'have',\n",
       " 'haven',\n",
       " \"haven't\",\n",
       " 'having',\n",
       " 'he',\n",
       " \"he'd\",\n",
       " \"he'll\",\n",
       " \"he's\",\n",
       " 'her',\n",
       " 'here',\n",
       " 'hers',\n",
       " 'herself',\n",
       " 'him',\n",
       " 'himself',\n",
       " 'his',\n",
       " 'how',\n",
       " 'i',\n",
       " \"i'd\",\n",
       " \"i'll\",\n",
       " \"i'm\",\n",
       " \"i've\",\n",
       " 'if',\n",
       " 'in',\n",
       " 'into',\n",
       " 'is',\n",
       " 'isn',\n",
       " \"isn't\",\n",
       " 'it',\n",
       " \"it'd\",\n",
       " \"it'll\",\n",
       " \"it's\",\n",
       " 'its',\n",
       " 'itself',\n",
       " 'just',\n",
       " 'll',\n",
       " 'm',\n",
       " 'ma',\n",
       " 'me',\n",
       " 'mightn',\n",
       " \"mightn't\",\n",
       " 'more',\n",
       " 'most',\n",
       " 'mustn',\n",
       " \"mustn't\",\n",
       " 'my',\n",
       " 'myself',\n",
       " 'needn',\n",
       " \"needn't\",\n",
       " 'no',\n",
       " 'nor',\n",
       " 'not',\n",
       " 'now',\n",
       " 'o',\n",
       " 'of',\n",
       " 'off',\n",
       " 'on',\n",
       " 'once',\n",
       " 'only',\n",
       " 'or',\n",
       " 'other',\n",
       " 'our',\n",
       " 'ours',\n",
       " 'ourselves',\n",
       " 'out',\n",
       " 'over',\n",
       " 'own',\n",
       " 're',\n",
       " 's',\n",
       " 'same',\n",
       " 'shan',\n",
       " \"shan't\",\n",
       " 'she',\n",
       " \"she'd\",\n",
       " \"she'll\",\n",
       " \"she's\",\n",
       " 'should',\n",
       " \"should've\",\n",
       " 'shouldn',\n",
       " \"shouldn't\",\n",
       " 'so',\n",
       " 'some',\n",
       " 'such',\n",
       " 't',\n",
       " 'than',\n",
       " 'that',\n",
       " \"that'll\",\n",
       " 'the',\n",
       " 'their',\n",
       " 'theirs',\n",
       " 'them',\n",
       " 'themselves',\n",
       " 'then',\n",
       " 'there',\n",
       " 'these',\n",
       " 'they',\n",
       " \"they'd\",\n",
       " \"they'll\",\n",
       " \"they're\",\n",
       " \"they've\",\n",
       " 'this',\n",
       " 'those',\n",
       " 'through',\n",
       " 'to',\n",
       " 'too',\n",
       " 'under',\n",
       " 'until',\n",
       " 'up',\n",
       " 've',\n",
       " 'very',\n",
       " 'was',\n",
       " 'wasn',\n",
       " \"wasn't\",\n",
       " 'we',\n",
       " \"we'd\",\n",
       " \"we'll\",\n",
       " \"we're\",\n",
       " \"we've\",\n",
       " 'were',\n",
       " 'weren',\n",
       " \"weren't\",\n",
       " 'what',\n",
       " 'when',\n",
       " 'where',\n",
       " 'which',\n",
       " 'while',\n",
       " 'who',\n",
       " 'whom',\n",
       " 'why',\n",
       " 'will',\n",
       " 'with',\n",
       " 'won',\n",
       " \"won't\",\n",
       " 'wouldn',\n",
       " \"wouldn't\",\n",
       " 'y',\n",
       " 'you',\n",
       " \"you'd\",\n",
       " \"you'll\",\n",
       " \"you're\",\n",
       " \"you've\",\n",
       " 'your',\n",
       " 'yours',\n",
       " 'yourself',\n",
       " 'yourselves'}"
      ]
     },
     "execution_count": 6,
     "metadata": {},
     "output_type": "execute_result"
    }
   ],
   "source": [
    "from nltk.corpus import stopwords\n",
    "stop_words=set(stopwords.words('english'))\n",
    "stop_words"
   ]
  },
  {
   "cell_type": "code",
   "execution_count": 7,
   "id": "4c960be3",
   "metadata": {},
   "outputs": [],
   "source": [
    "import re\n",
    "from nltk.corpus import stopwords\n",
    "from nltk.tokenize import word_tokenize\n",
    "\n",
    "\n",
    "def process_text(text):\n",
    "    text=re.sub(r'<.#?>','',text)\n",
    "    text=text.lower()\n",
    "    text=re.sub(r'[^a-z\\s]','',text)\n",
    "    tokens=word_tokenize(text)\n",
    "    tokens=[word for word in tokens if word not in stop_words]\n",
    "    text=\" \".join(tokens)\n",
    "    doc=nlp(text)\n",
    "    lematize_token=[token.lemma_ for token in doc]\n",
    "    return \" \".join(lematize_token)\n"
   ]
  },
  {
   "cell_type": "code",
   "execution_count": 8,
   "id": "a5dec500",
   "metadata": {},
   "outputs": [
    {
     "name": "stdout",
     "output_type": "stream",
     "text": [
      "processing some lines\n",
      "processing completed\n",
      "Comparison of origional and cleaned review\n",
      "                                                                                                                                                                                                                                                                                                                                                                                                                                                                                                                                                                                                                                                                                                                                                                                                                                                                                                                                                                                                                                                                                                                                                                                                                                                                                                                                                                                                                                                                                                                                                                                                                                                                                                                                                                                                                                                                                                                                                                                                                                                                                                                                                                                                                                                                                                                                                                                                                                                                                                                                                                                                                                                                                                                                                                                                                                                                                                                                                                                                                          review  \\\n",
      "33043                                                                                                                                                                                                                                                                                                                                                                                                                                                                                                                                                                                                                                                                                                                                                                                                                                                                                                                                                                                                                                                                                                                                                                                                                                                                                                                                                                                                                                                                                                                                                                                                                                                                                                                                                                                                                                                                                                                                   All you need to know about this film happens in the first five minutes: it looks cool, it has a solid original soundtrack reflective of the late-60s period, and all but a couple of its characters are unlikeable. Once you get that message, you may as well switch to another film.<br /><br />Davies's protagonist ignores his beautiful girlfriend, one of the few people in his life who cares about him. Then by the time he takes her advice to join her in the real world--instead of living a fantasy film of which he's the imagined director--he does so by pushing her aside and pairing up with an actress he's idealized beyond reason. A couple laughs and some thoughtful art direction are the only things worth watching here.<br /><br />The film is also interesting as documentation of Jason Schwartzman's fall from Mount Rushmore. In Rushmore, Schwartzman's annoying brattiness was something to be overcome, but here it's his character's only quality. Schwartzman's family connection clearly landed him in this role; here's hoping his choices improve.   \n",
      "1003                                                                                                                                                                                                                                                                                                                                                                                                                                                                                                                                                                                                                                                                                                                                                                                                                                                                                                                                                                                                                                                                                                                                                                                                                                                                                                                                                                                                                                                                                                                                                                                                                                                                                                                                                                                                                                                                                                                                                                                                                                                                                                                                                                                                                                                                                        This film really used its locations well with some amazing shots, dark and disturbing the film moves very slowly, but constantly keeps you watching. Modern Love worked well in the Gold Coast Film Fantastic program this year offering audiences a glimpse at an Australian Cinema that is usually neglected. Most importantly it is refreshing to see Australian cinema not taking on the cliché Aussie characters and story lines we have seen done to death over the years. This film would compliment any festival and will open debate after its screenings. The performances and characters are well developed, and the cinematography is fantastic. An interesting exploration into family relationships, and environments.   \n",
      "27576  Tourists head to Ireland for a school trip to learn about Druids. What they encounter is a horrific tale of cannibalistic killers.<br /><br />If I had to sum up Evil Breed, it would be a low grade gore fest. The film mixes Dead Alive, Evil Dead, Wrong Turn all in one. It's just too bad that the film has so many inconsistencies to keep track of that it loses any \"fun\" one would have watching it. The film has lots of random \"horror\" nudity...although the film also stars four porn stars, yup four, so there could have been plenty more. Breed also showcases a good amount of gore. <br /><br />Evil Breed has a horrible start, with laughable dialogue and horrible acting. That's a given in a straight to video horror film, but this takes the cake. I can't really figure out who the main character is, since the one female who \"lives\" at the end is not really in the movie all that much. Speaking of the ending, that has to be one of the most random and bogus ending in the history of film. It has no purpose with the rest of the film and totally changes one's view of the film.<br /><br />You have to see this film to believe it, since there are some pretty great death scenes. There are two death scenes that come into my mind, one in which the inbred killer rips the intestines out of a naked woman through her chest....yea her chest, don't ask me. The other id when the guy gets his intestines, yet again, ripped out through his asshole. Does that kill the guy? No, the killer continues to strangle the guy with his own intestines. These scenes remind me so much of Dead-Alive, with the right amount of humour in each. I also got the sense of Evil Dead, with the pointless mentions of horror films and Sam Raimi. Along with Halloween, when the female character is in a closet screaming for her life with the killer trying desperately;y to get in.<br /><br />Although, the gore and nudity are not enough for the poor audio and visual quality of the film. When the teacher wakes up from her bed and walks down the stairs, her footsteps are so loud and hard that it seems like she was wearing boots. Distracting indeed. As well as the continuity in the film, with only one inbred killer? As well as which character dies at which moment. I couldn't tell if the breast implant chick was Jenny or Gary's sister/cousin...I can't remember. As well as the random naked chick with a dead baby hanging out of her body, still attached with the umbilical cord.<br /><br />The horrible editing is distracting as well, the opening credits are too fast and disorienting. It did have a bad start and got better, but the ending just brings the film back down to a horrible level. If maybe there were better production values and more faith put into this film, then it wouldn't have been horribly butchered to death. Stay away from this film, unless you are happy with the below budget horrible bad film with decent gore.   \n",
      "24559                                                                                                                                                                                                                                                                                                                                                                                                                                                                                                                                                                                                                                                                                                                                                                                                                                                                                                                                                                                                                                                                                                                                                                                                                                                                                                                                                                  I only watched the first 30 minutes of this and what I saw was a total piece of crap. The scenes I saw were as bad as an Ed Wood movie. No, it was a hundred times WORSE. Ed Wood has the reputation of being the worst director ever but that's not true; the idiot who directed this junk is the WORST director ever.<br /><br />The American cop has a German accent! The \"police station\" was a desk in a warehouse with a sign \"Police Station\" hanging on the wall. There is a fist fight where the punches clearly miss by about TEN FEET.<br /><br />This cop pulls women over, cuffs them and leads them to a warehouse. He tells his cop partner to wait in the car. Then he comes out of the warehouse carrying a duffel bag. The cop partner thinks maybe something is not right, that his partner might be a bad cop who is murdering these women, but he isn't sure if that is what's happening because - he's a moron! The dialog is totally stupid, the acting is awful, and the characters act in the stupidest manner I have ever seen on screen. It is totally obvious to the cop's partner that he is illegally abducting these women and he is slapping them and taking them into a warehouse and returning to the car with a duffel bag with a body in it, and yet, the partner, who is there all along, doesn't know what is happening! <br /><br />The director of this film is a total hack. I stopped the movie at 30 minutes because I couldn't take it anymore. It has to be one of the WORST movies I have ever started to watch and I won't waste anymore time on it writing this review. <br /><br />Absolutely WORTHLESS.   \n",
      "31210                                                                                                                                                                                                                                                                                                                                                                                                                                                                                                                                                                                                                                                                                                                                                                                                                                                                                                                                                                                                                                                                                                                                                                                                                                                                                                                                                                                                                                                                                                                                                                                                                                                                                                I just checked out Northanger Abbey from the local library, and wasn't expecting much. Imagine my suprise at this gothic treat! Northanger Abbey is one of the most eerie places that you have ever seen, with empty passageways and ornate rooms full of hidden secrets. The glory of the movie is that it never reveals all: your imagination runs free, running with the imagination of the main character, one Kathrine M. She is a girl of wild imaginations, a reader of gothic fantasy that she brings into her (and our) real world.<br /><br />If I were to use one word to describe this excellent movie, it would be surrealistic. Dreams are woven throughout the movie, enhancing the mood. Sometimes, it is hard to tell what is real and what is not; this is intentional, I believe.<br /><br />Atmosphere reigns supreme. The music is not what you'd expect of a movie by Jane Austen: it is eerie, flute and drum based, high and haunting with an undercurrent of fear. If a soft, pleasant tune were playing in Northanger Abbey, it would be positively inviting. Now, it is foreboding, a grim and stark-walled palace of madmen. (But! The characters! You shall have to see them for yourself!)<br /><br />If you are looking for a most enjoyable evening, look no further than Northanger Abbey.   \n",
      "\n",
      "                                                                                                                                                                                                                                                                                                                                                                                                                                                                                                                                                                                                                                                                                                                                                                                                                                                                                                                                                                                                                                                                                                                                                                                                                                                                                                                                                                                                                                                                                                                                                                                                                                                                                                                                                                                cleaned_review  \n",
      "33043                                                                                                                                                                                                                                                                                                                                                                                                                                                                                                                                                                                                                                                                                                                                                                                                                                                                                                                                                                                                                                                                                              need know film happen first five minute look cool solid original soundtrack reflective late period couple character unlikeable get message may well switch another filmbr br daviess protagonist ignore beautiful girlfriend one people life care time take advice join real worldinstead live fantasy film he s imagine directorhe push aside pair actress he s idealize beyond reason couple laugh thoughtful art direction thing worth watch herebr br film also interesting documentation jason schwartzman fall mount rushmore rushmore schwartzmans annoying brattiness something overcome character quality schwartzman family connection clearly land role here hope choice improve  \n",
      "1003                                                                                                                                                                                                                                                                                                                                                                                                                                                                                                                                                                                                                                                                                                                                                                                                                                                                                                                                                                                                                                                                                                                                                                                                                                                                                       film really use location well amazing shot dark disturb film move slowly constantly keep watch modern love work well gold coast film fantastic program year offer audience glimpse australian cinema usually neglect importantly refreshing see australian cinema take clich aussie character story line see do death year film would compliment festival open debate screening performance character well develop cinematography fantastic interesting exploration family relationship environment  \n",
      "27576  tourists head ireland school trip learn druid encounter horrific tale cannibalistic killersbr br sum evil breed would low grade gore f film mix dead alive evil dead wrong turn one bad film many inconsistency keep track lose fun one would watch film lot random horror nudityalthough film also star four porn star yup four could plenty breed also showcase good amount gore br br evil breed horrible start laughable dialogue horrible acting that s give straight video horror film take cake can not really figure main character since one female life end really movie much speaking end one random bogus end history film purpose rest film totally change one view filmbr br see film believe since pretty great death scene two death scene come mind one inbreed killer rip intestine naked woman chestyea chest do not ask i d guy get intestine yet rip asshole kill guy killer continue strangle guy intestine scene remind much deadalive right amount humour also get sense evil dead pointless mention horror film sam raimi along halloween female character closet scream life killer try desperatelyy get inbr br although gore nudity enough poor audio visual quality film teacher wake bed walk stair footsteps loud hard seem like wear boot distract indeed well continuity film one inbreed killer well character die moment could not tell breast implant chick jenny garys sistercousini can not remember well random naked chick dead baby hang body still attach umbilical cordbr br horrible editing distract well open credit fast disorient bad start get well ending bring film back horrible level maybe well production value faith put film would not horribly butcher death stay away film unless happy budget horrible bad film decent gore  \n",
      "24559                                                                                                                                                                                                                                                                                                                                                                                                                                                                                                                                                                                                                                                                                                                                                                                                                                                             watch first minute see total piece crap scene see bad ed wood movie hundred time bad ed wood reputation bad director ever that s true idiot direct junk bad director everbr br american cop german accent police station desk warehouse sign police station hang wall fist fight punch clearly miss ten feetbr br cop pull woman cuff lead warehouse tell cop partner wait car come warehouse carry duffel bag cop partner think maybe something right partner might bad cop murder woman be not sure what s happen he s moron dialog totally stupid act awful character act stupid manner ever see screen totally obvious cop partner illegally abduct woman slap take warehouse return car duffel bag body yet partner along do not know happen br br director film total hack stop movie minute could not take anymore one bad movie ever start watch will not waste anymore time write review br br absolutely worthless  \n",
      "31210                                                                                                                                                                                                                                                                                                                                                                                                                                                                                                                                                                                                                                                                                                                                                                                                                                                                                                                                                                                     check northang abbey local library be not expect much imagine suprise gothic treat northang abbey one eerie place ever see empty passageway ornate room full hide secret glory movie never reveal imagination run free run imagination main character one kathrine girl wild imagination reader gothic fantasy bring real worldbr br use one word describe excellent movie would surrealistic dream weave throughout movie enhance mood sometimes hard tell real intentional believebr br atmosphere reign supreme music you d expect movie jane austen eerie flute drum base high haunting undercurrent fear soft pleasant tune play northang abbey would positively invite foreboding grim starkwalle palace madman character shall see yourselfbr br look enjoyable evening look northanger abbey  \n"
     ]
    }
   ],
   "source": [
    "print(\"processing some lines\")\n",
    "df=df.sample(500).copy()\n",
    "df['cleaned_review']=df['review'].apply(process_text)\n",
    "print(\"processing completed\")\n",
    "\n",
    "print(\"Comparison of origional and cleaned review\")\n",
    "print(df[['review','cleaned_review']].head())\n",
    "\n"
   ]
  },
  {
   "cell_type": "code",
   "execution_count": 9,
   "id": "15b37663",
   "metadata": {},
   "outputs": [
    {
     "name": "stdout",
     "output_type": "stream",
     "text": [
      "Training set size: 400\n",
      "Test set size: 100\n"
     ]
    }
   ],
   "source": [
    "from sklearn.model_selection import train_test_split\n",
    "\n",
    "df['sentiment_numeric'] = df['sentiment'].map({'positive': 1, 'negative': 0})\n",
    "\n",
    "x = df['cleaned_review']\n",
    "y = df['sentiment_numeric']\n",
    "\n",
    "X_train, X_test, y_train, y_test = train_test_split(x, y, test_size=0.2, random_state=42, stratify=y)\n",
    "\n",
    "print(f\"Training set size: {len(X_train)}\")\n",
    "print(f\"Test set size: {len(X_test)}\")\n",
    "\n",
    "\n"
   ]
  },
  {
   "cell_type": "code",
   "execution_count": 10,
   "id": "e0e7c722",
   "metadata": {},
   "outputs": [
    {
     "name": "stdout",
     "output_type": "stream",
     "text": [
      "Shape of the training TF-IDF matrix: (400, 5000)\n",
      "Shape of the testing TF-IDF matrix: (100, 5000)\n"
     ]
    }
   ],
   "source": [
    "from sklearn.feature_extraction.text import TfidfVectorizer\n",
    "\n",
    "\n",
    "tfidf = TfidfVectorizer(max_features=5000)\n",
    "\n",
    "\n",
    "X_train_tfidf = tfidf.fit_transform(X_train)\n",
    "\n",
    "X_test_tfidf = tfidf.transform(X_test)\n",
    "\n",
    "print(f\"Shape of the training TF-IDF matrix: {X_train_tfidf.shape}\")\n",
    "print(f\"Shape of the testing TF-IDF matrix: {X_test_tfidf.shape}\")"
   ]
  },
  {
   "cell_type": "code",
   "execution_count": 11,
   "id": "4509bcb7",
   "metadata": {},
   "outputs": [
    {
     "name": "stdout",
     "output_type": "stream",
     "text": [
      "Model training complete!\n"
     ]
    }
   ],
   "source": [
    "from sklearn.linear_model import LogisticRegression\n",
    "\n",
    "model = LogisticRegression(solver='liblinear')\n",
    "model.fit(X_train_tfidf, y_train)\n",
    "\n",
    "print(\"Model training complete!\")"
   ]
  },
  {
   "cell_type": "code",
   "execution_count": 12,
   "id": "81bb49d4",
   "metadata": {},
   "outputs": [
    {
     "name": "stdout",
     "output_type": "stream",
     "text": [
      "Review: 'This movie was absolutely fantastic! The acting was superb and the plot was gripping.'\n",
      "Predicted Sentiment: Positive\n",
      "\n",
      "Review: 'I was so bored throughout the entire film. It was a complete waste of time and money.'\n",
      "Predicted Sentiment: Negative\n",
      "\n",
      "Review: 'The film was okay, not great but not terrible either. Some parts were good.'\n",
      "Predicted Sentiment: Positive\n",
      "\n",
      "Review: 'I'm not sure what to think about this movie. It was okay, but not great.'\n",
      "Predicted Sentiment: Positive\n",
      "\n"
     ]
    }
   ],
   "source": [
    "def predict_sentiment(text):\n",
    "    \"\"\"\n",
    "    Takes a raw text string and predicts its sentiment using the trained model.\n",
    "    \"\"\"\n",
    "    # 1. Preprocess the text using the same function from Cell 2\n",
    "    cleaned_text = process_text(text)\n",
    "    \n",
    "    # 2. Vectorize the text using the SAME fitted TF-IDF vectorizer from Cell 5\n",
    "    vectorized_text = tfidf.transform([cleaned_text])\n",
    "    \n",
    "    # 3. Predict using the trained model from Cell 6\n",
    "    prediction = model.predict(vectorized_text)\n",
    "    \n",
    "    # 4. Return the human-readable result\n",
    "    return 'Positive' if prediction[0] == 1 else 'Negative'\n",
    "\n",
    "# --- Test Cases ---\n",
    "review_1 = \"This movie was absolutely fantastic! The acting was superb and the plot was gripping.\"\n",
    "review_2 = \"I was so bored throughout the entire film. It was a complete waste of time and money.\"\n",
    "review_3 = \"The film was okay, not great but not terrible either. Some parts were good.\"\n",
    "review_4 = \"I'm not sure what to think about this movie. It was okay, but not great.\"\n",
    "\n",
    "\n",
    "print(f\"Review: '{review_1}'\\nPredicted Sentiment: {predict_sentiment(review_1)}\\n\")\n",
    "print(f\"Review: '{review_2}'\\nPredicted Sentiment: {predict_sentiment(review_2)}\\n\")\n",
    "print(f\"Review: '{review_3}'\\nPredicted Sentiment: {predict_sentiment(review_3)}\\n\")\n",
    "print(f\"Review: '{review_4}'\\nPredicted Sentiment: {predict_sentiment(review_4)}\\n\")"
   ]
  },
  {
   "cell_type": "code",
   "execution_count": 13,
   "id": "4a87f8ef",
   "metadata": {},
   "outputs": [
    {
     "name": "stdout",
     "output_type": "stream",
     "text": [
      "Model Accuracy: 0.8100\n",
      "\n",
      "Classification Report:\n",
      "              precision    recall  f1-score   support\n",
      "\n",
      "    Negative       0.87      0.70      0.78        47\n",
      "    Positive       0.77      0.91      0.83        53\n",
      "\n",
      "    accuracy                           0.81       100\n",
      "   macro avg       0.82      0.80      0.81       100\n",
      "weighted avg       0.82      0.81      0.81       100\n",
      "\n"
     ]
    },
    {
     "data": {
      "image/png": "[encoded data removed]",
      "text/plain": [
       "<Figure size 600x500 with 2 Axes>"
      ]
     },
     "metadata": {},
     "output_type": "display_data"
    }
   ],
   "source": [
    "from sklearn.metrics import accuracy_score, classification_report, confusion_matrix\n",
    "import matplotlib.pyplot as plt\n",
    "import seaborn as sns\n",
    "\n",
    "# Make predictions on the test set\n",
    "y_pred = model.predict(X_test_tfidf)\n",
    "\n",
    "# Calculate accuracy\n",
    "accuracy = accuracy_score(y_test, y_pred)\n",
    "print(f\"Model Accuracy: {accuracy:.4f}\")\n",
    "\n",
    "# Print the detailed classification report\n",
    "print(\"\\nClassification Report:\")\n",
    "print(classification_report(y_test, y_pred, target_names=['Negative', 'Positive']))\n",
    "\n",
    "# Plot the confusion matrix\n",
    "cm = confusion_matrix(y_test, y_pred)\n",
    "plt.figure(figsize=(6, 5))\n",
    "sns.heatmap(cm, annot=True, fmt='d', cmap='Blues', \n",
    "            xticklabels=['Negative', 'Positive'], \n",
    "            yticklabels=['Negative', 'Positive'])\n",
    "plt.xlabel('Predicted Label')\n",
    "plt.ylabel('True Label')\n",
    "plt.title('Confusion Matrix')\n",
    "plt.show()"
   ]
  }
 ],
 "metadata": {
  "kernelspec": {
   "display_name": ".venv",
   "language": "python",
   "name": "python3"
  },
  "language_info": {
   "codemirror_mode": {
    "name": "ipython",
    "version": 3
   },
   "file_extension": ".py",
   "mimetype": "text/x-python",
   "name": "python",
   "nbconvert_exporter": "python",
   "pygments_lexer": "ipython3",
   "version": "3.12.3"
  }
 },
 "nbformat": 4,
 "nbformat_minor": 5
}
